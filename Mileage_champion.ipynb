{
 "cells": [
  {
   "cell_type": "code",
   "execution_count": null,
   "metadata": {},
   "outputs": [],
   "source": [
    "from pyhive import hive\n",
    "import pandas as pd\n",
    "import numpy as np\n",
    "import time\n",
    "import datetime\n",
    "import pickle\n",
    "import gzip\n",
    "import seaborn as sns\n",
    "import matplotlib.pylab as plt\n",
    "from matplotlib.dates import DateFormatter\n",
    "import matplotlib.dates as mdates\n"
   ]
  },
  {
   "cell_type": "markdown",
   "metadata": {},
   "source": [
    "# Step2.1"
   ]
  },
  {
   "cell_type": "code",
   "execution_count": null,
   "metadata": {},
   "outputs": [],
   "source": [
    "host_p = '10.12.108.234'\n",
    "port_p = 10000\n",
    "username_p = '7010745'\n",
    "password_p = '7010745!01'\n",
    "conn = hive.Connection(host=host_p, port= port_p , username=username_p, password= password_p, auth = 'CUSTOM')\n",
    "st = time.time()\n",
    "ch = pd.read_sql(\"\"\"\n",
    "                    SELECT vin,\n",
    "                           ignitiontime,\n",
    "                           prj_vehl_cd,\n",
    "                           mdy,\n",
    "                           tm,\n",
    "                           fuel,\n",
    "                           MAX(t) AS trip_hour,\n",
    "                           SUM(ems20_fco) AS sum_fco,\n",
    "                           SUM(dist) AS sum_dist\n",
    "                    FROM (\n",
    "                          SELECT vin,\n",
    "                                 ignitiontime,\n",
    "                                 prj_vehl_cd,\n",
    "                                 mdy,\n",
    "                                 tm,\n",
    "                                 fuel,\n",
    "                                 t,\n",
    "                                 ems20_fco,\n",
    "                                 (ems11_vs * 0.000277778) AS dist\n",
    "                          FROM vcrm_7010745.hmi_mlc_feb ) t1\n",
    "                    GROUP BY vin, ignitiontime, prj_vehl_cd, mdy, tm, fuel\n",
    "                    \n",
    "                 \"\"\", conn)\n",
    "conn.close()\n",
    "print(time.time() - st)"
   ]
  },
  {
   "cell_type": "code",
   "execution_count": null,
   "metadata": {},
   "outputs": [],
   "source": [
    "dt2 = dt[dt['ignitiontime'] != dt['ignitiontime'].min()]\n",
    "dt2['dt'] = pd.to_datetime(dt2['ignitiontime'])\n",
    "dt2 = dt2[dt2['dt'] >= pd.to_datetime('')].reset_index(drop = True)"
   ]
  },
  {
   "cell_type": "code",
   "execution_count": null,
   "metadata": {},
   "outputs": [],
   "source": [
    "print('Number of trips : ',len(dt2))\n",
    "print('Number of VINs : ',len(dt2.groupby('vin').count()))"
   ]
  },
  {
   "cell_type": "code",
   "execution_count": null,
   "metadata": {},
   "outputs": [],
   "source": [
    "# trip_dist : distance per trip\n",
    "dt2.rename(columns = {'sum_dist' : 'trip_dist'}, inplace = True)\n",
    "\n",
    "# trip_hour : hours not seconds\n",
    "dt2['trip_hour'] = round(dt2['trip_hour'] / 3600,2)\n",
    "\n",
    "# sum_fco : Liter\n",
    "dt2['sum_fco'] = round(dt2['sum_fco'] / 10000,2)\n",
    "\n",
    "# mileage : mileage per trip(from vs censor)\n",
    "dt2 = dt2.join(ch.set_index(['vin', 'ignitiontime']), on = ['vin', 'ignitiontime'], how = 'inner')\n",
    "dt2['mileage'] = list(map(lambda x,y : round(x / y, 1) if y !=0 else 0 , dt2['sum_dist'], dt2['sum_fco']))"
   ]
  },
  {
   "cell_type": "code",
   "execution_count": null,
   "metadata": {},
   "outputs": [],
   "source": [
    "dt2.loc[dt2['fuel'] == 'G', 'fuel'] = 'Petrol'\n",
    "dt2.loc[dt2['fuel'] == 'D', 'fuel'] = 'Diesel'"
   ]
  },
  {
   "cell_type": "code",
   "execution_count": null,
   "metadata": {},
   "outputs": [],
   "source": [
    "vin_agg_dt = dt2.groupby(['vin', 'prj_vehl_cd', 'mdy', 'fuel', 'tm']).agg({'mileage' : 'mean', \\\n",
    "                                                                           'trip_dist' : 'sum', \\\n",
    "                                                                           'trip_hour' : 'sum', \\\n",
    "                                                                           'sum_fco' : 'sum', \\\n",
    "                                                                           'ignitiontime' : 'count'}).reset_index()\n",
    "vin_agg_dt.columns = ['vin', 'vhcl_cd', 'mdy', 'org_fuel', 'tm', 'mileage', 'sum_trip_dist', 'sum_trip_hour', 'sum_fco', 'frequency']"
   ]
  },
  {
   "cell_type": "markdown",
   "metadata": {},
   "source": [
    "# Step2-2"
   ]
  },
  {
   "cell_type": "code",
   "execution_count": null,
   "metadata": {},
   "outputs": [],
   "source": [
    "vin_agg_dt2 = vin_agg_dt[((vin_agg_dt['org_fuel'] == 'Diesel') & (vin_agg_dt['mileage'] < 27) | ((vin_agg_dt['org_fuel'] == 'Petrol') & (vin_agg_dt['mileage'] < 23)))]\n",
    "vin_agg_dt2 = vin_agg_dt2[vin_agg_dt2['mileage'] > 0]\n",
    "print('Number of VINs which do not meet the condition1. : ',(len(vin_agg_dt) - len(vin_agg_dt2)))\n",
    "\n",
    "vin_agg_dt3 = vin_agg_dt2[(vin_agg_dt2['sum_trip_hour'] >= 15) & (vin_agg_dt2['odometer'] >= 1500)].reset_index(drop = True)\n",
    "print('Number of VINs which meet the condition2  :',len(vin_agg_dt3))\n",
    "print('Rate of data which meet the condition1 and 2 at the same time : ',round((len(vin_agg_dt3)/len(vin_agg_dt))*100,2),'%')"
   ]
  },
  {
   "cell_type": "markdown",
   "metadata": {},
   "source": [
    "# Step2-3"
   ]
  },
  {
   "cell_type": "markdown",
   "metadata": {},
   "source": [
    "## Load dealer data"
   ]
  },
  {
   "cell_type": "code",
   "execution_count": null,
   "metadata": {},
   "outputs": [],
   "source": [
    "dlr = pd.read_excel('')"
   ]
  },
  {
   "cell_type": "code",
   "execution_count": null,
   "metadata": {},
   "outputs": [],
   "source": [
    "# Split Region column into Region1(Region) and Region2(Sector)\n",
    "dlr['Region1'] = dlr['Region Name'].str[0]\n",
    "dlr['Region2'] = dlr['Region Name'].str[1]"
   ]
  },
  {
   "cell_type": "code",
   "execution_count": null,
   "metadata": {},
   "outputs": [],
   "source": [
    "print('Number of dealer data : ',len(dlr))"
   ]
  },
  {
   "cell_type": "markdown",
   "metadata": {},
   "source": [
    "## Merge vcrm data to dealer data per VIN"
   ]
  },
  {
   "cell_type": "code",
   "execution_count": null,
   "metadata": {},
   "outputs": [],
   "source": [
    "rank_raw = vin_agg_dt3.join(dlr.set_index('VIN Number'), on = 'vin', how = 'inner')\n",
    "print('Dealer Data matching counts : ',len(rank_raw))\n",
    "print('Dealer Data matching rate : ', round(len(rank_raw)/len(vin_agg_dt3) * 100,2),'%')"
   ]
  },
  {
   "cell_type": "code",
   "execution_count": null,
   "metadata": {},
   "outputs": [],
   "source": [
    "# Mileage rank per each criteria(fuel/tm/region/sector)\n",
    "rank_raw['mlg_rank'] = rank_raw.groupby(['org_fuel','tm'])['mileage'].rank(method = 'dense',ascending = False).astype(int)\n",
    "rank_raw['mlg_rank_by_reg'] = rank_raw.groupby(['org_fuel','tm','Region1'])['mileage'].rank(method = 'dense',ascending = False).astype(int)\n",
    "rank_raw['mlg_rank_by_reg_sctr'] = rank_raw.groupby(['org_fuel','tm','Region1','Region2'])['mileage'].rank(method = 'dense',ascending = False).astype(int)"
   ]
  },
  {
   "cell_type": "code",
   "execution_count": null,
   "metadata": {},
   "outputs": [],
   "source": [
    "rank_raw.to_csv('')"
   ]
  }
 ],
 "metadata": {
  "kernelspec": {
   "display_name": "Python 3",
   "language": "python",
   "name": "python3"
  },
  "language_info": {
   "codemirror_mode": {
    "name": "ipython",
    "version": 3
   },
   "file_extension": ".py",
   "mimetype": "text/x-python",
   "name": "python",
   "nbconvert_exporter": "python",
   "pygments_lexer": "ipython3",
   "version": "3.6.6"
  }
 },
 "nbformat": 4,
 "nbformat_minor": 2
}
